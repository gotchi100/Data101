{
 "cells": [
  {
   "cell_type": "code",
   "execution_count": 30,
   "metadata": {},
   "outputs": [
    {
     "ename": "ModuleNotFoundError",
     "evalue": "No module named 'plotly'",
     "output_type": "error",
     "traceback": [
      "\u001b[1;31m---------------------------------------------------------------------------\u001b[0m",
      "\u001b[1;31mModuleNotFoundError\u001b[0m                       Traceback (most recent call last)",
      "\u001b[1;32m<ipython-input-30-b88b2bae39d9>\u001b[0m in \u001b[0;36m<module>\u001b[1;34m\u001b[0m\n\u001b[0;32m      5\u001b[0m \u001b[1;32mimport\u001b[0m \u001b[0mgeopandas\u001b[0m \u001b[1;32mas\u001b[0m \u001b[0mgd\u001b[0m\u001b[1;33m\u001b[0m\u001b[1;33m\u001b[0m\u001b[0m\n\u001b[0;32m      6\u001b[0m \u001b[1;32mfrom\u001b[0m \u001b[0mshapely\u001b[0m\u001b[1;33m.\u001b[0m\u001b[0mgeometry\u001b[0m \u001b[1;32mimport\u001b[0m \u001b[0mPoint\u001b[0m\u001b[1;33m\u001b[0m\u001b[1;33m\u001b[0m\u001b[0m\n\u001b[1;32m----> 7\u001b[1;33m \u001b[1;32mimport\u001b[0m \u001b[0mplotly\u001b[0m\u001b[1;33m\u001b[0m\u001b[1;33m\u001b[0m\u001b[0m\n\u001b[0m\u001b[0;32m      8\u001b[0m \u001b[1;32mimport\u001b[0m \u001b[0mplotly\u001b[0m\u001b[1;33m.\u001b[0m\u001b[0mexpress\u001b[0m \u001b[1;32mas\u001b[0m \u001b[0mpx\u001b[0m\u001b[1;33m\u001b[0m\u001b[1;33m\u001b[0m\u001b[0m\n\u001b[0;32m      9\u001b[0m \u001b[1;32mimport\u001b[0m \u001b[0mplotly\u001b[0m\u001b[1;33m.\u001b[0m\u001b[0mgraph_objects\u001b[0m \u001b[1;32mas\u001b[0m \u001b[0mgo\u001b[0m\u001b[1;33m\u001b[0m\u001b[1;33m\u001b[0m\u001b[0m\n",
      "\u001b[1;31mModuleNotFoundError\u001b[0m: No module named 'plotly'"
     ]
    }
   ],
   "source": [
    "import numpy as np\n",
    "import pandas as pd\n",
    "import matplotlib.pyplot as plt\n",
    "import seaborn as sns\n",
    "import geopandas as gd\n",
    "from shapely.geometry import Point\n",
    "import plotly\n",
    "import plotly.express as px\n",
    "import plotly.graph_objects as go\n",
    "\n",
    "plt.figure(figsize=(15, 8))\n",
    "\n",
    "%load_ext autoreload\n",
    "%autoreload 2"
   ]
  },
  {
   "cell_type": "code",
   "execution_count": 2,
   "metadata": {},
   "outputs": [
    {
     "name": "stdout",
     "output_type": "stream",
     "text": [
      "<class 'pandas.core.frame.DataFrame'>\n",
      "RangeIndex: 212 entries, 0 to 211\n",
      "Data columns (total 17 columns):\n",
      "Country     212 non-null object\n",
      "Code        212 non-null object\n",
      "Y2000       212 non-null float64\n",
      "Y2001       212 non-null float64\n",
      "Y2002       212 non-null float64\n",
      "Y2003       212 non-null float64\n",
      "Y2004       212 non-null float64\n",
      "Y2005       212 non-null float64\n",
      "Y2006       212 non-null float64\n",
      "Y2007       212 non-null float64\n",
      "Y2008       212 non-null float64\n",
      "Y2009       212 non-null float64\n",
      "Y2010       212 non-null float64\n",
      "Y2011       212 non-null float64\n",
      "Y2012       212 non-null float64\n",
      "Y2013       212 non-null float64\n",
      "Y2014       212 non-null float64\n",
      "dtypes: float64(15), object(2)\n",
      "memory usage: 28.3+ KB\n"
     ]
    }
   ],
   "source": [
    "access_electricity_df = pd.DataFrame(pd.read_csv(\"data/Access_To_Electricity.csv\"))\n",
    "access_electricity_df.info()"
   ]
  },
  {
   "cell_type": "code",
   "execution_count": 3,
   "metadata": {},
   "outputs": [
    {
     "data": {
      "text/plain": [
       "Country     False\n",
       "Code        False\n",
       "Y2000       False\n",
       "Y2001       False\n",
       "Y2002       False\n",
       "Y2003       False\n",
       "Y2004       False\n",
       "Y2005       False\n",
       "Y2006       False\n",
       "Y2007       False\n",
       "Y2008       False\n",
       "Y2009       False\n",
       "Y2010       False\n",
       "Y2011       False\n",
       "Y2012       False\n",
       "Y2013       False\n",
       "Y2014       False\n",
       "dtype: bool"
      ]
     },
     "execution_count": 3,
     "metadata": {},
     "output_type": "execute_result"
    }
   ],
   "source": [
    "access_electricity_df.isnull().any()"
   ]
  },
  {
   "cell_type": "code",
   "execution_count": 4,
   "metadata": {},
   "outputs": [
    {
     "data": {
      "text/html": [
       "<div>\n",
       "<style scoped>\n",
       "    .dataframe tbody tr th:only-of-type {\n",
       "        vertical-align: middle;\n",
       "    }\n",
       "\n",
       "    .dataframe tbody tr th {\n",
       "        vertical-align: top;\n",
       "    }\n",
       "\n",
       "    .dataframe thead th {\n",
       "        text-align: right;\n",
       "    }\n",
       "</style>\n",
       "<table border=\"1\" class=\"dataframe\">\n",
       "  <thead>\n",
       "    <tr style=\"text-align: right;\">\n",
       "      <th></th>\n",
       "      <th>Country</th>\n",
       "      <th>Code</th>\n",
       "      <th>Y2000</th>\n",
       "      <th>Y2001</th>\n",
       "      <th>Y2002</th>\n",
       "      <th>Y2003</th>\n",
       "      <th>Y2004</th>\n",
       "      <th>Y2005</th>\n",
       "      <th>Y2006</th>\n",
       "      <th>Y2007</th>\n",
       "      <th>Y2008</th>\n",
       "      <th>Y2009</th>\n",
       "      <th>Y2010</th>\n",
       "      <th>Y2011</th>\n",
       "      <th>Y2012</th>\n",
       "      <th>Y2013</th>\n",
       "      <th>Y2014</th>\n",
       "    </tr>\n",
       "  </thead>\n",
       "  <tbody>\n",
       "    <tr>\n",
       "      <td>0</td>\n",
       "      <td>Afghanistan</td>\n",
       "      <td>AFG</td>\n",
       "      <td>0.000000</td>\n",
       "      <td>0.000000</td>\n",
       "      <td>0.00000</td>\n",
       "      <td>0.000000</td>\n",
       "      <td>0.000000</td>\n",
       "      <td>22.295269</td>\n",
       "      <td>28.099962</td>\n",
       "      <td>33.901604</td>\n",
       "      <td>42.400000</td>\n",
       "      <td>45.520683</td>\n",
       "      <td>42.700000</td>\n",
       "      <td>43.222019</td>\n",
       "      <td>69.100000</td>\n",
       "      <td>68.982941</td>\n",
       "      <td>89.500000</td>\n",
       "    </tr>\n",
       "    <tr>\n",
       "      <td>1</td>\n",
       "      <td>Africa Eastern and Southern</td>\n",
       "      <td>AFE</td>\n",
       "      <td>20.086007</td>\n",
       "      <td>23.103178</td>\n",
       "      <td>24.22343</td>\n",
       "      <td>25.023184</td>\n",
       "      <td>26.176336</td>\n",
       "      <td>23.621498</td>\n",
       "      <td>27.299433</td>\n",
       "      <td>28.737952</td>\n",
       "      <td>28.813735</td>\n",
       "      <td>27.483061</td>\n",
       "      <td>28.233373</td>\n",
       "      <td>28.381836</td>\n",
       "      <td>32.224027</td>\n",
       "      <td>32.046478</td>\n",
       "      <td>31.323579</td>\n",
       "    </tr>\n",
       "    <tr>\n",
       "      <td>2</td>\n",
       "      <td>Africa Western and Central</td>\n",
       "      <td>AFW</td>\n",
       "      <td>34.658011</td>\n",
       "      <td>35.664311</td>\n",
       "      <td>36.40355</td>\n",
       "      <td>40.673975</td>\n",
       "      <td>37.757913</td>\n",
       "      <td>38.007909</td>\n",
       "      <td>39.860706</td>\n",
       "      <td>40.744232</td>\n",
       "      <td>41.686699</td>\n",
       "      <td>41.865713</td>\n",
       "      <td>41.730881</td>\n",
       "      <td>45.901299</td>\n",
       "      <td>44.130354</td>\n",
       "      <td>47.018163</td>\n",
       "      <td>47.745499</td>\n",
       "    </tr>\n",
       "    <tr>\n",
       "      <td>3</td>\n",
       "      <td>Albania</td>\n",
       "      <td>ALB</td>\n",
       "      <td>100.000000</td>\n",
       "      <td>100.000000</td>\n",
       "      <td>100.00000</td>\n",
       "      <td>100.000000</td>\n",
       "      <td>100.000000</td>\n",
       "      <td>100.000000</td>\n",
       "      <td>100.000000</td>\n",
       "      <td>100.000000</td>\n",
       "      <td>100.000000</td>\n",
       "      <td>100.000000</td>\n",
       "      <td>100.000000</td>\n",
       "      <td>100.000000</td>\n",
       "      <td>99.900000</td>\n",
       "      <td>100.000000</td>\n",
       "      <td>99.950000</td>\n",
       "    </tr>\n",
       "    <tr>\n",
       "      <td>4</td>\n",
       "      <td>Algeria</td>\n",
       "      <td>DZA</td>\n",
       "      <td>0.000000</td>\n",
       "      <td>0.000000</td>\n",
       "      <td>0.00000</td>\n",
       "      <td>0.000000</td>\n",
       "      <td>0.000000</td>\n",
       "      <td>0.000000</td>\n",
       "      <td>0.000000</td>\n",
       "      <td>0.000000</td>\n",
       "      <td>99.300000</td>\n",
       "      <td>98.817574</td>\n",
       "      <td>98.821838</td>\n",
       "      <td>98.847992</td>\n",
       "      <td>98.764660</td>\n",
       "      <td>98.977257</td>\n",
       "      <td>99.074036</td>\n",
       "    </tr>\n",
       "  </tbody>\n",
       "</table>\n",
       "</div>"
      ],
      "text/plain": [
       "                      Country  Code       Y2000       Y2001      Y2002  \\\n",
       "0                  Afghanistan  AFG    0.000000    0.000000    0.00000   \n",
       "1  Africa Eastern and Southern  AFE   20.086007   23.103178   24.22343   \n",
       "2   Africa Western and Central  AFW   34.658011   35.664311   36.40355   \n",
       "3                      Albania  ALB  100.000000  100.000000  100.00000   \n",
       "4                      Algeria  DZA    0.000000    0.000000    0.00000   \n",
       "\n",
       "        Y2003       Y2004       Y2005       Y2006       Y2007       Y2008  \\\n",
       "0    0.000000    0.000000   22.295269   28.099962   33.901604   42.400000   \n",
       "1   25.023184   26.176336   23.621498   27.299433   28.737952   28.813735   \n",
       "2   40.673975   37.757913   38.007909   39.860706   40.744232   41.686699   \n",
       "3  100.000000  100.000000  100.000000  100.000000  100.000000  100.000000   \n",
       "4    0.000000    0.000000    0.000000    0.000000    0.000000   99.300000   \n",
       "\n",
       "        Y2009       Y2010       Y2011      Y2012       Y2013      Y2014  \n",
       "0   45.520683   42.700000   43.222019  69.100000   68.982941  89.500000  \n",
       "1   27.483061   28.233373   28.381836  32.224027   32.046478  31.323579  \n",
       "2   41.865713   41.730881   45.901299  44.130354   47.018163  47.745499  \n",
       "3  100.000000  100.000000  100.000000  99.900000  100.000000  99.950000  \n",
       "4   98.817574   98.821838   98.847992  98.764660   98.977257  99.074036  "
      ]
     },
     "execution_count": 4,
     "metadata": {},
     "output_type": "execute_result"
    }
   ],
   "source": [
    "access_electricity_df.head()"
   ]
  },
  {
   "cell_type": "code",
   "execution_count": 5,
   "metadata": {},
   "outputs": [
    {
     "name": "stdout",
     "output_type": "stream",
     "text": [
      "<class 'pandas.core.frame.DataFrame'>\n",
      "RangeIndex: 183 entries, 0 to 182\n",
      "Data columns (total 17 columns):\n",
      "Country    183 non-null object\n",
      "Cnumber    183 non-null int64\n",
      "Y2000      183 non-null float64\n",
      "Y2001      183 non-null float64\n",
      "Y2002      183 non-null float64\n",
      "Y2003      183 non-null float64\n",
      "Y2004      183 non-null float64\n",
      "Y2005      183 non-null float64\n",
      "Y2006      183 non-null float64\n",
      "Y2007      183 non-null float64\n",
      "Y2008      183 non-null float64\n",
      "Y2009      183 non-null float64\n",
      "Y2010      183 non-null float64\n",
      "Y2011      183 non-null float64\n",
      "Y2012      183 non-null float64\n",
      "Y2013      183 non-null float64\n",
      "Y2014      183 non-null float64\n",
      "dtypes: float64(15), int64(1), object(1)\n",
      "memory usage: 24.4+ KB\n"
     ]
    }
   ],
   "source": [
    "consumption_electricity_df = pd.DataFrame(pd.read_csv(\"data/Electricity_Consumption.csv\"))\n",
    "consumption_electricity_df.info()"
   ]
  },
  {
   "cell_type": "code",
   "execution_count": 6,
   "metadata": {},
   "outputs": [
    {
     "data": {
      "text/plain": [
       "Country    False\n",
       "Cnumber    False\n",
       "Y2000      False\n",
       "Y2001      False\n",
       "Y2002      False\n",
       "Y2003      False\n",
       "Y2004      False\n",
       "Y2005      False\n",
       "Y2006      False\n",
       "Y2007      False\n",
       "Y2008      False\n",
       "Y2009      False\n",
       "Y2010      False\n",
       "Y2011      False\n",
       "Y2012      False\n",
       "Y2013      False\n",
       "Y2014      False\n",
       "dtype: bool"
      ]
     },
     "execution_count": 6,
     "metadata": {},
     "output_type": "execute_result"
    }
   ],
   "source": [
    "consumption_electricity_df.isnull().any()"
   ]
  },
  {
   "cell_type": "code",
   "execution_count": 7,
   "metadata": {},
   "outputs": [
    {
     "name": "stdout",
     "output_type": "stream",
     "text": [
      "<class 'pandas.core.frame.DataFrame'>\n",
      "RangeIndex: 3015 entries, 0 to 3014\n",
      "Data columns (total 8 columns):\n",
      "Country    3015 non-null object\n",
      "Code       2970 non-null object\n",
      "Year       3015 non-null int64\n",
      "Coal       3015 non-null float64\n",
      "Hydro      3015 non-null float64\n",
      "Solar      3015 non-null float64\n",
      "Oil        3015 non-null float64\n",
      "Wind       3015 non-null float64\n",
      "dtypes: float64(5), int64(1), object(2)\n",
      "memory usage: 188.6+ KB\n"
     ]
    }
   ],
   "source": [
    "production_electricity_df = pd.DataFrame(pd.read_csv(\"data/Electricity_Production.csv\"))\n",
    "production_electricity_df.info()"
   ]
  },
  {
   "cell_type": "code",
   "execution_count": 8,
   "metadata": {},
   "outputs": [
    {
     "data": {
      "text/plain": [
       "Country    False\n",
       "Code        True\n",
       "Year       False\n",
       "Coal       False\n",
       "Hydro      False\n",
       "Solar      False\n",
       "Oil        False\n",
       "Wind       False\n",
       "dtype: bool"
      ]
     },
     "execution_count": 8,
     "metadata": {},
     "output_type": "execute_result"
    }
   ],
   "source": [
    "production_electricity_df.isnull().any()"
   ]
  },
  {
   "cell_type": "markdown",
   "metadata": {},
   "source": [
    "## Electricity Consumption"
   ]
  },
  {
   "cell_type": "code",
   "execution_count": 9,
   "metadata": {},
   "outputs": [],
   "source": [
    "consumption = consumption_electricity_df"
   ]
  },
  {
   "cell_type": "code",
   "execution_count": 10,
   "metadata": {},
   "outputs": [],
   "source": [
    "#consumption = consumption_electricity_df[consumption_electricity_df['Country'] == 'Angola']\n",
    "consumption = consumption.drop(['Cnumber'], axis=1)"
   ]
  },
  {
   "cell_type": "code",
   "execution_count": 11,
   "metadata": {},
   "outputs": [],
   "source": [
    "df = pd.DataFrame({'2000': [2000]*183})"
   ]
  },
  {
   "cell_type": "code",
   "execution_count": 12,
   "metadata": {},
   "outputs": [],
   "source": [
    "for i in range (0,15):\n",
    "    year = 2000 + i\n",
    "    df = pd.DataFrame({year: [year]*183})\n",
    "    consumption[year] = df"
   ]
  },
  {
   "cell_type": "code",
   "execution_count": 13,
   "metadata": {},
   "outputs": [
    {
     "name": "stdout",
     "output_type": "stream",
     "text": [
      "<class 'pandas.core.frame.DataFrame'>\n",
      "RangeIndex: 183 entries, 0 to 182\n",
      "Data columns (total 31 columns):\n",
      "Country    183 non-null object\n",
      "Y2000      183 non-null float64\n",
      "Y2001      183 non-null float64\n",
      "Y2002      183 non-null float64\n",
      "Y2003      183 non-null float64\n",
      "Y2004      183 non-null float64\n",
      "Y2005      183 non-null float64\n",
      "Y2006      183 non-null float64\n",
      "Y2007      183 non-null float64\n",
      "Y2008      183 non-null float64\n",
      "Y2009      183 non-null float64\n",
      "Y2010      183 non-null float64\n",
      "Y2011      183 non-null float64\n",
      "Y2012      183 non-null float64\n",
      "Y2013      183 non-null float64\n",
      "Y2014      183 non-null float64\n",
      "2000       183 non-null int64\n",
      "2001       183 non-null int64\n",
      "2002       183 non-null int64\n",
      "2003       183 non-null int64\n",
      "2004       183 non-null int64\n",
      "2005       183 non-null int64\n",
      "2006       183 non-null int64\n",
      "2007       183 non-null int64\n",
      "2008       183 non-null int64\n",
      "2009       183 non-null int64\n",
      "2010       183 non-null int64\n",
      "2011       183 non-null int64\n",
      "2012       183 non-null int64\n",
      "2013       183 non-null int64\n",
      "2014       183 non-null int64\n",
      "dtypes: float64(15), int64(15), object(1)\n",
      "memory usage: 44.4+ KB\n"
     ]
    }
   ],
   "source": [
    "consumption.info()"
   ]
  },
  {
   "cell_type": "code",
   "execution_count": 14,
   "metadata": {},
   "outputs": [
    {
     "name": "stdout",
     "output_type": "stream",
     "text": [
      "Y2000\n"
     ]
    }
   ],
   "source": [
    "year = 2000\n",
    "this = 'Y' + str(year)\n",
    "print(this)"
   ]
  },
  {
   "cell_type": "code",
   "execution_count": 15,
   "metadata": {},
   "outputs": [
    {
     "name": "stdout",
     "output_type": "stream",
     "text": [
      "AxesSubplot(0.125,0.125;0.775x0.755)\n"
     ]
    },
    {
     "data": {
      "image/png": "[encoded data removed]",
      "text/plain": [
       "<Figure size 432x288 with 1 Axes>"
      ]
     },
     "metadata": {
      "needs_background": "light"
     },
     "output_type": "display_data"
    }
   ],
   "source": [
    "ax = np.empty(15, dtype=object)\n",
    "for i in range(0,15):\n",
    "    year = 2000 + i\n",
    "    year2 = 'Y' + str(year)\n",
    "    ax[i] = sns.scatterplot(data=consumption, x=year, y=year2, alpha=0.4)\n",
    "print(ax[0])"
   ]
  },
  {
   "cell_type": "code",
   "execution_count": 16,
   "metadata": {},
   "outputs": [
    {
     "data": {
      "text/html": [
       "<div>\n",
       "<style scoped>\n",
       "    .dataframe tbody tr th:only-of-type {\n",
       "        vertical-align: middle;\n",
       "    }\n",
       "\n",
       "    .dataframe tbody tr th {\n",
       "        vertical-align: top;\n",
       "    }\n",
       "\n",
       "    .dataframe thead th {\n",
       "        text-align: right;\n",
       "    }\n",
       "</style>\n",
       "<table border=\"1\" class=\"dataframe\">\n",
       "  <thead>\n",
       "    <tr style=\"text-align: right;\">\n",
       "      <th></th>\n",
       "      <th>Country</th>\n",
       "      <th>Cnumber</th>\n",
       "      <th>Y2000</th>\n",
       "      <th>Y2001</th>\n",
       "      <th>Y2002</th>\n",
       "      <th>Y2003</th>\n",
       "      <th>Y2004</th>\n",
       "      <th>Y2005</th>\n",
       "      <th>Y2006</th>\n",
       "      <th>Y2007</th>\n",
       "      <th>Y2008</th>\n",
       "      <th>Y2009</th>\n",
       "      <th>Y2010</th>\n",
       "      <th>Y2011</th>\n",
       "      <th>Y2012</th>\n",
       "      <th>Y2013</th>\n",
       "      <th>Y2014</th>\n",
       "    </tr>\n",
       "  </thead>\n",
       "  <tbody>\n",
       "    <tr>\n",
       "      <td>118</td>\n",
       "      <td>North America</td>\n",
       "      <td>119</td>\n",
       "      <td>14001.20834</td>\n",
       "      <td>13419.03199</td>\n",
       "      <td>13656.44242</td>\n",
       "      <td>13691.15509</td>\n",
       "      <td>13769.83134</td>\n",
       "      <td>14023.67911</td>\n",
       "      <td>13871.14348</td>\n",
       "      <td>13955.28481</td>\n",
       "      <td>13930.9151</td>\n",
       "      <td>13164.35199</td>\n",
       "      <td>13580.59419</td>\n",
       "      <td>13483.99377</td>\n",
       "      <td>13200.44502</td>\n",
       "      <td>13278.45725</td>\n",
       "      <td>13253.82147</td>\n",
       "    </tr>\n",
       "  </tbody>\n",
       "</table>\n",
       "</div>"
      ],
      "text/plain": [
       "           Country  Cnumber        Y2000        Y2001        Y2002  \\\n",
       "118  North America      119  14001.20834  13419.03199  13656.44242   \n",
       "\n",
       "           Y2003        Y2004        Y2005        Y2006        Y2007  \\\n",
       "118  13691.15509  13769.83134  14023.67911  13871.14348  13955.28481   \n",
       "\n",
       "          Y2008        Y2009        Y2010        Y2011        Y2012  \\\n",
       "118  13930.9151  13164.35199  13580.59419  13483.99377  13200.44502   \n",
       "\n",
       "           Y2013        Y2014  \n",
       "118  13278.45725  13253.82147  "
      ]
     },
     "execution_count": 16,
     "metadata": {},
     "output_type": "execute_result"
    }
   ],
   "source": [
    "data = pd.DataFrame(pd.read_csv(\"data/Electricity_Consumption.csv\", quotechar='\"', header=0, sep=\",\", escapechar=\"\\\\\", na_values=\"N\"))\n",
    "data = data[consumption_electricity_df['Country'] == 'North America']\n",
    "data.head()"
   ]
  },
  {
   "cell_type": "code",
   "execution_count": 17,
   "metadata": {},
   "outputs": [
    {
     "name": "stdout",
     "output_type": "stream",
     "text": [
      "    Years  index         Data\n",
      "0    2000  Y2000  14001.20834\n",
      "1    2001  Y2001  13419.03199\n",
      "2    2002  Y2002  13656.44242\n",
      "3    2003  Y2003  13691.15509\n",
      "4    2004  Y2004  13769.83134\n",
      "5    2005  Y2005  14023.67911\n",
      "6    2006  Y2006  13871.14348\n",
      "7    2007  Y2007  13955.28481\n",
      "8    2008  Y2008  13930.91510\n",
      "9    2009  Y2009  13164.35199\n",
      "10   2010  Y2010  13580.59419\n",
      "11   2011  Y2011  13483.99377\n",
      "12   2012  Y2012  13200.44502\n",
      "13   2013  Y2013  13278.45725\n",
      "14   2014  Y2014  13253.82147\n"
     ]
    }
   ],
   "source": [
    "years = pd.Series([2000, 2001, 2002, 2003, 2004, 2005, 2006, 2007, 2008, 2009, 2010, 2011, 2012, 2013, 2014], name='Years')\n",
    "\n",
    "test_data = pd.Series(data.iloc[0,2:17], name='Data').reset_index()\n",
    "\n",
    "temp_df = pd.concat([years, test_data], axis=1)\n",
    "temp_df['Data'] = temp_df['Data'].astype(float)\n",
    "\n",
    "print(temp_df)"
   ]
  },
  {
   "cell_type": "code",
   "execution_count": 18,
   "metadata": {},
   "outputs": [
    {
     "data": {
      "text/plain": [
       "[Text(0, 0.5, 'Electricity Consumption'), Text(0.5, 0, 'Years (2000-2014)')]"
      ]
     },
     "execution_count": 18,
     "metadata": {},
     "output_type": "execute_result"
    },
    {
     "data": {
      "image/png": "[encoded data removed]",
      "text/plain": [
       "<Figure size 1080x720 with 1 Axes>"
      ]
     },
     "metadata": {
      "needs_background": "light"
     },
     "output_type": "display_data"
    }
   ],
   "source": [
    "fig = plt.figure(figsize=(15, 10))\n",
    "ax = fig.add_subplot(111)\n",
    "plot = sns.scatterplot(ax=ax, data=temp_df, x=\"Years\", y=\"Data\", alpha=1)\n",
    "plot.set(ylabel=\"Electricity Consumption\", xlabel=\"Years (2000-2014)\")"
   ]
  },
  {
   "cell_type": "code",
   "execution_count": 19,
   "metadata": {
    "scrolled": false
   },
   "outputs": [
    {
     "data": {
      "text/plain": [
       "[Text(0, 0.5, 'Electricity Consumption'),\n",
       " [],\n",
       " Text(0.5, 0, 'Years (2000-2014)')]"
      ]
     },
     "execution_count": 19,
     "metadata": {},
     "output_type": "execute_result"
    },
    {
     "data": {
      "image/png": "[encoded data removed]",
      "text/plain": [
       "<Figure size 1080x720 with 1 Axes>"
      ]
     },
     "metadata": {
      "needs_background": "light"
     },
     "output_type": "display_data"
    }
   ],
   "source": [
    "fig = plt.figure(figsize=(15, 10))\n",
    "ax = fig.add_subplot(111)\n",
    "plot = sns.lineplot(ax=ax, data=temp_df, x=\"Years\", y=\"Data\", color='blue')\n",
    "plot.set(ylabel=\"Electricity Consumption\", xlabel=\"Years (2000-2014)\", xticklabels=[])"
   ]
  },
  {
   "cell_type": "markdown",
   "metadata": {},
   "source": [
    "## Electricity Production"
   ]
  },
  {
   "cell_type": "code",
   "execution_count": 20,
   "metadata": {},
   "outputs": [],
   "source": [
    "production = production_electricity_df"
   ]
  },
  {
   "cell_type": "code",
   "execution_count": 21,
   "metadata": {},
   "outputs": [
    {
     "data": {
      "text/html": [
       "<div>\n",
       "<style scoped>\n",
       "    .dataframe tbody tr th:only-of-type {\n",
       "        vertical-align: middle;\n",
       "    }\n",
       "\n",
       "    .dataframe tbody tr th {\n",
       "        vertical-align: top;\n",
       "    }\n",
       "\n",
       "    .dataframe thead th {\n",
       "        text-align: right;\n",
       "    }\n",
       "</style>\n",
       "<table border=\"1\" class=\"dataframe\">\n",
       "  <thead>\n",
       "    <tr style=\"text-align: right;\">\n",
       "      <th></th>\n",
       "      <th>Country</th>\n",
       "      <th>Coal</th>\n",
       "      <th>Hydro</th>\n",
       "      <th>Solar</th>\n",
       "      <th>Oil</th>\n",
       "      <th>Wind</th>\n",
       "    </tr>\n",
       "  </thead>\n",
       "  <tbody>\n",
       "    <tr>\n",
       "      <td>0</td>\n",
       "      <td>Afghanistan</td>\n",
       "      <td>0.0</td>\n",
       "      <td>0.312</td>\n",
       "      <td>0.0</td>\n",
       "      <td>0.0</td>\n",
       "      <td>0.0</td>\n",
       "    </tr>\n",
       "    <tr>\n",
       "      <td>1</td>\n",
       "      <td>Afghanistan</td>\n",
       "      <td>0.0</td>\n",
       "      <td>0.498</td>\n",
       "      <td>0.0</td>\n",
       "      <td>0.0</td>\n",
       "      <td>0.0</td>\n",
       "    </tr>\n",
       "    <tr>\n",
       "      <td>2</td>\n",
       "      <td>Afghanistan</td>\n",
       "      <td>0.0</td>\n",
       "      <td>0.555</td>\n",
       "      <td>0.0</td>\n",
       "      <td>0.0</td>\n",
       "      <td>0.0</td>\n",
       "    </tr>\n",
       "    <tr>\n",
       "      <td>3</td>\n",
       "      <td>Afghanistan</td>\n",
       "      <td>0.0</td>\n",
       "      <td>0.630</td>\n",
       "      <td>0.0</td>\n",
       "      <td>0.0</td>\n",
       "      <td>0.0</td>\n",
       "    </tr>\n",
       "    <tr>\n",
       "      <td>4</td>\n",
       "      <td>Afghanistan</td>\n",
       "      <td>0.0</td>\n",
       "      <td>0.565</td>\n",
       "      <td>0.0</td>\n",
       "      <td>0.0</td>\n",
       "      <td>0.0</td>\n",
       "    </tr>\n",
       "  </tbody>\n",
       "</table>\n",
       "</div>"
      ],
      "text/plain": [
       "       Country  Coal  Hydro  Solar  Oil  Wind\n",
       "0  Afghanistan   0.0  0.312    0.0  0.0   0.0\n",
       "1  Afghanistan   0.0  0.498    0.0  0.0   0.0\n",
       "2  Afghanistan   0.0  0.555    0.0  0.0   0.0\n",
       "3  Afghanistan   0.0  0.630    0.0  0.0   0.0\n",
       "4  Afghanistan   0.0  0.565    0.0  0.0   0.0"
      ]
     },
     "execution_count": 21,
     "metadata": {},
     "output_type": "execute_result"
    }
   ],
   "source": [
    "production = production.drop(['Year','Code'], axis=1)\n",
    "production.head()"
   ]
  },
  {
   "cell_type": "code",
   "execution_count": 22,
   "metadata": {},
   "outputs": [
    {
     "data": {
      "text/plain": [
       "array(['Afghanistan', 'Albania', 'Algeria', 'American Samoa', 'Angola',\n",
       "       'Antigua and Barbuda', 'Argentina', 'Armenia', 'Aruba',\n",
       "       'Australia', 'Austria', 'Azerbaijan', 'Bahamas', 'Bahrain',\n",
       "       'Bangladesh', 'Barbados', 'Belarus', 'Belgium', 'Belize', 'Benin',\n",
       "       'Bermuda', 'Bhutan', 'Bolivia', 'Bosnia and Herzegovina',\n",
       "       'Botswana', 'Brazil', 'British Virgin Islands', 'Brunei',\n",
       "       'Bulgaria', 'Burkina Faso', 'Burundi', 'Cambodia', 'Cameroon',\n",
       "       'Canada', 'Cayman Islands', 'Central Africa', 'Chad', 'Chile',\n",
       "       'China', 'Colombia', 'Comoros', 'Congo', 'Costa Rica', 'Croatia',\n",
       "       'Cuba', 'Cyprus', 'Czech Republic', 'Democratic Republic of Congo',\n",
       "       'Denmark', 'Djibouti', 'Dominica', 'Dominican Republic',\n",
       "       'Eastern Africa', 'Ecuador', 'Egypt', 'El Salvador',\n",
       "       'Equatorial Guinea', 'Eritrea', 'Estonia', 'Ethiopia',\n",
       "       'European Union', 'Faroe Islands', 'Fiji', 'Finland', 'France',\n",
       "       'French Polynesia', 'Gabon', 'Gambia', 'Georgia', 'Germany',\n",
       "       'Ghana', 'Gibraltar', 'Greece', 'Greenland', 'Grenada', 'Guam',\n",
       "       'Guatemala', 'Guinea', 'Guinea-Bissau', 'Guyana', 'Haiti',\n",
       "       'Honduras', 'Hong Kong', 'Hungary', 'Iceland', 'India',\n",
       "       'Indonesia', 'Iran', 'Iraq', 'Ireland', 'Israel', 'Italy',\n",
       "       'Jamaica', 'Japan', 'Jordan', 'Kazakhstan', 'Kenya', 'Kiribati',\n",
       "       'Kosovo', 'Kuwait', 'Kyrgyzstan', 'Laos', 'Latvia', 'Lebanon',\n",
       "       'Lesotho', 'Liberia', 'Libya', 'Lithuania', 'Luxembourg', 'Macau',\n",
       "       'Madagascar', 'Malawi', 'Malaysia', 'Maldives', 'Mali', 'Malta',\n",
       "       'Mauritania', 'Mauritius', 'Mexico', 'Moldova', 'Mongolia',\n",
       "       'Montenegro', 'Morocco', 'Mozambique', 'Namibia', 'Nauru', 'Nepal',\n",
       "       'Netherlands', 'New Caledonia', 'New Zealand', 'Nicaragua',\n",
       "       'Niger', 'Nigeria', 'North America', 'North Korea',\n",
       "       'North Macedonia', 'Norway', 'Oman', 'Pakistan', 'Panama',\n",
       "       'Papua New Guinea', 'Paraguay', 'Peru', 'Philippines', 'Poland',\n",
       "       'Portugal', 'Puerto Rico', 'Qatar', 'Romania', 'Russia', 'Rwanda',\n",
       "       'Samoa', 'Sao Tome and Principe', 'Saudi Arabia', 'Senegal',\n",
       "       'Serbia', 'Seychelles', 'Sierra Leone', 'Singapore', 'Slovakia',\n",
       "       'Slovenia', 'Solomon Islands', 'Somalia', 'South Africa',\n",
       "       'South Korea', 'South Sudan', 'Southern Africa', 'Spain',\n",
       "       'Sri Lanka', 'St. Kitts and Nevis', 'St. Lucia',\n",
       "       'St. Vincent and the Grenadines', 'Sudan', 'Suriname', 'Sweden',\n",
       "       'Switzerland', 'Syria', 'Tajikistan', 'Tanzania', 'Thailand',\n",
       "       'Togo', 'Tonga', 'Trinidad and Tobago', 'Tunisia', 'Turkey',\n",
       "       'Turkmenistan', 'Turks and Caicos Islands', 'Uganda', 'Ukraine',\n",
       "       'United Arab Emirates', 'United Kingdom', 'United States',\n",
       "       'Uruguay', 'Uzbekistan', 'Vanuatu', 'Venezuela', 'Vietnam',\n",
       "       'Western Africa', 'Yemen', 'Zambia', 'Zimbabwe'], dtype=object)"
      ]
     },
     "execution_count": 22,
     "metadata": {},
     "output_type": "execute_result"
    }
   ],
   "source": [
    "production['Country'].unique()"
   ]
  },
  {
   "cell_type": "code",
   "execution_count": 23,
   "metadata": {},
   "outputs": [
    {
     "name": "stdout",
     "output_type": "stream",
     "text": [
      "           Coal       Hydro      Solar         Oil        Wind\n",
      "0   2263.256093  662.596308   0.541934  229.526223    5.932759\n",
      "1   2190.631371  570.196359   0.601930  242.927349    7.152385\n",
      "2   2226.471482  632.303808   0.632334  196.331991   10.884869\n",
      "3   2278.384854  625.962537   0.641444  218.336415   12.009471\n",
      "4   2266.104215  626.129399   0.721396  223.219785   15.251607\n",
      "5   2313.261280  656.092939   0.776374  220.627092   19.561454\n",
      "6   2281.681240  668.877775   0.857116  133.231549   29.350714\n",
      "7   2318.840342  638.005196   1.133358  134.357777   38.023112\n",
      "8   2267.462487  667.765501   1.687063  112.377733   59.965837\n",
      "9   2011.398301  666.942490   2.212260  100.415188   81.870461\n",
      "10  2114.916103  645.817477   3.298236   90.510538  105.571632\n",
      "11  1987.746367  728.089485   5.351504   87.317860  133.227399\n",
      "12  1742.520667  686.207852   9.987014   86.876794  157.243943\n",
      "13  1814.273756  686.360042  17.644495   83.364818  184.865083\n",
      "14  1813.693660  677.144728  31.556962   69.640121  202.733450\n"
     ]
    }
   ],
   "source": [
    "test_data2 = production[production['Country'] == 'North America'].reset_index()\n",
    "test_data2 = test_data2.drop(['Country', 'index'], axis=1)\n",
    "\n",
    "print(test_data2)"
   ]
  },
  {
   "cell_type": "code",
   "execution_count": 24,
   "metadata": {},
   "outputs": [
    {
     "data": {
      "text/html": [
       "<div>\n",
       "<style scoped>\n",
       "    .dataframe tbody tr th:only-of-type {\n",
       "        vertical-align: middle;\n",
       "    }\n",
       "\n",
       "    .dataframe tbody tr th {\n",
       "        vertical-align: top;\n",
       "    }\n",
       "\n",
       "    .dataframe thead th {\n",
       "        text-align: right;\n",
       "    }\n",
       "</style>\n",
       "<table border=\"1\" class=\"dataframe\">\n",
       "  <thead>\n",
       "    <tr style=\"text-align: right;\">\n",
       "      <th></th>\n",
       "      <th>Coal</th>\n",
       "      <th>Hydro</th>\n",
       "      <th>Solar</th>\n",
       "      <th>Oil</th>\n",
       "      <th>Wind</th>\n",
       "    </tr>\n",
       "  </thead>\n",
       "  <tbody>\n",
       "    <tr>\n",
       "      <td>0</td>\n",
       "      <td>2263.256093</td>\n",
       "      <td>662.596308</td>\n",
       "      <td>0.541934</td>\n",
       "      <td>229.526223</td>\n",
       "      <td>5.932759</td>\n",
       "    </tr>\n",
       "    <tr>\n",
       "      <td>1</td>\n",
       "      <td>2190.631371</td>\n",
       "      <td>570.196359</td>\n",
       "      <td>0.601930</td>\n",
       "      <td>242.927349</td>\n",
       "      <td>7.152385</td>\n",
       "    </tr>\n",
       "    <tr>\n",
       "      <td>2</td>\n",
       "      <td>2226.471482</td>\n",
       "      <td>632.303808</td>\n",
       "      <td>0.632334</td>\n",
       "      <td>196.331991</td>\n",
       "      <td>10.884869</td>\n",
       "    </tr>\n",
       "    <tr>\n",
       "      <td>3</td>\n",
       "      <td>2278.384854</td>\n",
       "      <td>625.962537</td>\n",
       "      <td>0.641444</td>\n",
       "      <td>218.336415</td>\n",
       "      <td>12.009471</td>\n",
       "    </tr>\n",
       "    <tr>\n",
       "      <td>4</td>\n",
       "      <td>2266.104215</td>\n",
       "      <td>626.129399</td>\n",
       "      <td>0.721396</td>\n",
       "      <td>223.219785</td>\n",
       "      <td>15.251607</td>\n",
       "    </tr>\n",
       "  </tbody>\n",
       "</table>\n",
       "</div>"
      ],
      "text/plain": [
       "          Coal       Hydro     Solar         Oil       Wind\n",
       "0  2263.256093  662.596308  0.541934  229.526223   5.932759\n",
       "1  2190.631371  570.196359  0.601930  242.927349   7.152385\n",
       "2  2226.471482  632.303808  0.632334  196.331991  10.884869\n",
       "3  2278.384854  625.962537  0.641444  218.336415  12.009471\n",
       "4  2266.104215  626.129399  0.721396  223.219785  15.251607"
      ]
     },
     "execution_count": 24,
     "metadata": {},
     "output_type": "execute_result"
    }
   ],
   "source": [
    "test_data2.head()"
   ]
  },
  {
   "cell_type": "code",
   "execution_count": 25,
   "metadata": {},
   "outputs": [
    {
     "data": {
      "text/plain": [
       "<matplotlib.axes._subplots.AxesSubplot at 0x18cdb101e08>"
      ]
     },
     "execution_count": 25,
     "metadata": {},
     "output_type": "execute_result"
    },
    {
     "data": {
      "image/png": "[encoded data removed]",
      "text/plain": [
       "<Figure size 432x288 with 1 Axes>"
      ]
     },
     "metadata": {
      "needs_background": "light"
     },
     "output_type": "display_data"
    }
   ],
   "source": [
    "test_data2.plot.area()"
   ]
  },
  {
   "cell_type": "markdown",
   "metadata": {},
   "source": [
    "## Electricity Access"
   ]
  },
  {
   "cell_type": "code",
   "execution_count": 28,
   "metadata": {},
   "outputs": [
    {
     "name": "stdout",
     "output_type": "stream",
     "text": [
      "<class 'pandas.core.frame.DataFrame'>\n",
      "RangeIndex: 212 entries, 0 to 211\n",
      "Data columns (total 17 columns):\n",
      "Country     212 non-null object\n",
      "Code        212 non-null object\n",
      "Y2000       212 non-null float64\n",
      "Y2001       212 non-null float64\n",
      "Y2002       212 non-null float64\n",
      "Y2003       212 non-null float64\n",
      "Y2004       212 non-null float64\n",
      "Y2005       212 non-null float64\n",
      "Y2006       212 non-null float64\n",
      "Y2007       212 non-null float64\n",
      "Y2008       212 non-null float64\n",
      "Y2009       212 non-null float64\n",
      "Y2010       212 non-null float64\n",
      "Y2011       212 non-null float64\n",
      "Y2012       212 non-null float64\n",
      "Y2013       212 non-null float64\n",
      "Y2014       212 non-null float64\n",
      "dtypes: float64(15), object(2)\n",
      "memory usage: 28.3+ KB\n"
     ]
    }
   ],
   "source": [
    "access_electricity_df.info()"
   ]
  },
  {
   "cell_type": "code",
   "execution_count": 43,
   "metadata": {},
   "outputs": [
    {
     "data": {
      "text/html": [
       "<div>\n",
       "<style scoped>\n",
       "    .dataframe tbody tr th:only-of-type {\n",
       "        vertical-align: middle;\n",
       "    }\n",
       "\n",
       "    .dataframe tbody tr th {\n",
       "        vertical-align: top;\n",
       "    }\n",
       "\n",
       "    .dataframe thead th {\n",
       "        text-align: right;\n",
       "    }\n",
       "</style>\n",
       "<table border=\"1\" class=\"dataframe\">\n",
       "  <thead>\n",
       "    <tr style=\"text-align: right;\">\n",
       "      <th></th>\n",
       "      <th>Country</th>\n",
       "      <th>Code</th>\n",
       "      <th>Y2000</th>\n",
       "      <th>Y2001</th>\n",
       "      <th>Y2002</th>\n",
       "      <th>Y2003</th>\n",
       "      <th>Y2004</th>\n",
       "      <th>Y2005</th>\n",
       "      <th>Y2006</th>\n",
       "      <th>Y2007</th>\n",
       "      <th>Y2008</th>\n",
       "      <th>Y2009</th>\n",
       "      <th>Y2010</th>\n",
       "      <th>Y2011</th>\n",
       "      <th>Y2012</th>\n",
       "      <th>Y2013</th>\n",
       "      <th>Y2014</th>\n",
       "    </tr>\n",
       "  </thead>\n",
       "  <tbody>\n",
       "    <tr>\n",
       "      <td>0</td>\n",
       "      <td>Afghanistan</td>\n",
       "      <td>AFG</td>\n",
       "      <td>0.000000</td>\n",
       "      <td>0.000000</td>\n",
       "      <td>0.00000</td>\n",
       "      <td>0.000000</td>\n",
       "      <td>0.000000</td>\n",
       "      <td>22.295269</td>\n",
       "      <td>28.099962</td>\n",
       "      <td>33.901604</td>\n",
       "      <td>42.400000</td>\n",
       "      <td>45.520683</td>\n",
       "      <td>42.700000</td>\n",
       "      <td>43.222019</td>\n",
       "      <td>69.100000</td>\n",
       "      <td>68.982941</td>\n",
       "      <td>89.500000</td>\n",
       "    </tr>\n",
       "    <tr>\n",
       "      <td>1</td>\n",
       "      <td>Africa Eastern and Southern</td>\n",
       "      <td>AFE</td>\n",
       "      <td>20.086007</td>\n",
       "      <td>23.103178</td>\n",
       "      <td>24.22343</td>\n",
       "      <td>25.023184</td>\n",
       "      <td>26.176336</td>\n",
       "      <td>23.621498</td>\n",
       "      <td>27.299433</td>\n",
       "      <td>28.737952</td>\n",
       "      <td>28.813735</td>\n",
       "      <td>27.483061</td>\n",
       "      <td>28.233373</td>\n",
       "      <td>28.381836</td>\n",
       "      <td>32.224027</td>\n",
       "      <td>32.046478</td>\n",
       "      <td>31.323579</td>\n",
       "    </tr>\n",
       "    <tr>\n",
       "      <td>2</td>\n",
       "      <td>Africa Western and Central</td>\n",
       "      <td>AFW</td>\n",
       "      <td>34.658011</td>\n",
       "      <td>35.664311</td>\n",
       "      <td>36.40355</td>\n",
       "      <td>40.673975</td>\n",
       "      <td>37.757913</td>\n",
       "      <td>38.007909</td>\n",
       "      <td>39.860706</td>\n",
       "      <td>40.744232</td>\n",
       "      <td>41.686699</td>\n",
       "      <td>41.865713</td>\n",
       "      <td>41.730881</td>\n",
       "      <td>45.901299</td>\n",
       "      <td>44.130354</td>\n",
       "      <td>47.018163</td>\n",
       "      <td>47.745499</td>\n",
       "    </tr>\n",
       "    <tr>\n",
       "      <td>3</td>\n",
       "      <td>Albania</td>\n",
       "      <td>ALB</td>\n",
       "      <td>100.000000</td>\n",
       "      <td>100.000000</td>\n",
       "      <td>100.00000</td>\n",
       "      <td>100.000000</td>\n",
       "      <td>100.000000</td>\n",
       "      <td>100.000000</td>\n",
       "      <td>100.000000</td>\n",
       "      <td>100.000000</td>\n",
       "      <td>100.000000</td>\n",
       "      <td>100.000000</td>\n",
       "      <td>100.000000</td>\n",
       "      <td>100.000000</td>\n",
       "      <td>99.900000</td>\n",
       "      <td>100.000000</td>\n",
       "      <td>99.950000</td>\n",
       "    </tr>\n",
       "    <tr>\n",
       "      <td>4</td>\n",
       "      <td>Algeria</td>\n",
       "      <td>DZA</td>\n",
       "      <td>0.000000</td>\n",
       "      <td>0.000000</td>\n",
       "      <td>0.00000</td>\n",
       "      <td>0.000000</td>\n",
       "      <td>0.000000</td>\n",
       "      <td>0.000000</td>\n",
       "      <td>0.000000</td>\n",
       "      <td>0.000000</td>\n",
       "      <td>99.300000</td>\n",
       "      <td>98.817574</td>\n",
       "      <td>98.821838</td>\n",
       "      <td>98.847992</td>\n",
       "      <td>98.764660</td>\n",
       "      <td>98.977257</td>\n",
       "      <td>99.074036</td>\n",
       "    </tr>\n",
       "  </tbody>\n",
       "</table>\n",
       "</div>"
      ],
      "text/plain": [
       "                      Country  Code       Y2000       Y2001      Y2002  \\\n",
       "0                  Afghanistan  AFG    0.000000    0.000000    0.00000   \n",
       "1  Africa Eastern and Southern  AFE   20.086007   23.103178   24.22343   \n",
       "2   Africa Western and Central  AFW   34.658011   35.664311   36.40355   \n",
       "3                      Albania  ALB  100.000000  100.000000  100.00000   \n",
       "4                      Algeria  DZA    0.000000    0.000000    0.00000   \n",
       "\n",
       "        Y2003       Y2004       Y2005       Y2006       Y2007       Y2008  \\\n",
       "0    0.000000    0.000000   22.295269   28.099962   33.901604   42.400000   \n",
       "1   25.023184   26.176336   23.621498   27.299433   28.737952   28.813735   \n",
       "2   40.673975   37.757913   38.007909   39.860706   40.744232   41.686699   \n",
       "3  100.000000  100.000000  100.000000  100.000000  100.000000  100.000000   \n",
       "4    0.000000    0.000000    0.000000    0.000000    0.000000   99.300000   \n",
       "\n",
       "        Y2009       Y2010       Y2011      Y2012       Y2013      Y2014  \n",
       "0   45.520683   42.700000   43.222019  69.100000   68.982941  89.500000  \n",
       "1   27.483061   28.233373   28.381836  32.224027   32.046478  31.323579  \n",
       "2   41.865713   41.730881   45.901299  44.130354   47.018163  47.745499  \n",
       "3  100.000000  100.000000  100.000000  99.900000  100.000000  99.950000  \n",
       "4   98.817574   98.821838   98.847992  98.764660   98.977257  99.074036  "
      ]
     },
     "execution_count": 43,
     "metadata": {},
     "output_type": "execute_result"
    }
   ],
   "source": [
    "access_electricity_df.head()"
   ]
  },
  {
   "cell_type": "code",
   "execution_count": 58,
   "metadata": {},
   "outputs": [
    {
     "data": {
      "text/html": [
       "<div>\n",
       "<style scoped>\n",
       "    .dataframe tbody tr th:only-of-type {\n",
       "        vertical-align: middle;\n",
       "    }\n",
       "\n",
       "    .dataframe tbody tr th {\n",
       "        vertical-align: top;\n",
       "    }\n",
       "\n",
       "    .dataframe thead th {\n",
       "        text-align: right;\n",
       "    }\n",
       "</style>\n",
       "<table border=\"1\" class=\"dataframe\">\n",
       "  <thead>\n",
       "    <tr style=\"text-align: right;\">\n",
       "      <th></th>\n",
       "      <th>Country</th>\n",
       "      <th>Code</th>\n",
       "      <th>Y2000</th>\n",
       "    </tr>\n",
       "  </thead>\n",
       "  <tbody>\n",
       "    <tr>\n",
       "      <td>0</td>\n",
       "      <td>Afghanistan</td>\n",
       "      <td>AFG</td>\n",
       "      <td>0.000000</td>\n",
       "    </tr>\n",
       "    <tr>\n",
       "      <td>1</td>\n",
       "      <td>Africa Eastern and Southern</td>\n",
       "      <td>AFE</td>\n",
       "      <td>20.086007</td>\n",
       "    </tr>\n",
       "    <tr>\n",
       "      <td>2</td>\n",
       "      <td>Africa Western and Central</td>\n",
       "      <td>AFW</td>\n",
       "      <td>34.658011</td>\n",
       "    </tr>\n",
       "    <tr>\n",
       "      <td>3</td>\n",
       "      <td>Albania</td>\n",
       "      <td>ALB</td>\n",
       "      <td>100.000000</td>\n",
       "    </tr>\n",
       "    <tr>\n",
       "      <td>4</td>\n",
       "      <td>Algeria</td>\n",
       "      <td>DZA</td>\n",
       "      <td>0.000000</td>\n",
       "    </tr>\n",
       "    <tr>\n",
       "      <td>...</td>\n",
       "      <td>...</td>\n",
       "      <td>...</td>\n",
       "      <td>...</td>\n",
       "    </tr>\n",
       "    <tr>\n",
       "      <td>207</td>\n",
       "      <td>Venezuela</td>\n",
       "      <td>VEN</td>\n",
       "      <td>98.900000</td>\n",
       "    </tr>\n",
       "    <tr>\n",
       "      <td>208</td>\n",
       "      <td>Vietnam</td>\n",
       "      <td>VNM</td>\n",
       "      <td>87.806961</td>\n",
       "    </tr>\n",
       "    <tr>\n",
       "      <td>209</td>\n",
       "      <td>Yemen</td>\n",
       "      <td>YEM</td>\n",
       "      <td>49.180351</td>\n",
       "    </tr>\n",
       "    <tr>\n",
       "      <td>210</td>\n",
       "      <td>Zambia</td>\n",
       "      <td>ZMB</td>\n",
       "      <td>16.700000</td>\n",
       "    </tr>\n",
       "    <tr>\n",
       "      <td>211</td>\n",
       "      <td>Zimbabwe</td>\n",
       "      <td>ZWE</td>\n",
       "      <td>33.850704</td>\n",
       "    </tr>\n",
       "  </tbody>\n",
       "</table>\n",
       "<p>212 rows × 3 columns</p>\n",
       "</div>"
      ],
      "text/plain": [
       "                        Country  Code       Y2000\n",
       "0                    Afghanistan  AFG    0.000000\n",
       "1    Africa Eastern and Southern  AFE   20.086007\n",
       "2     Africa Western and Central  AFW   34.658011\n",
       "3                        Albania  ALB  100.000000\n",
       "4                        Algeria  DZA    0.000000\n",
       "..                           ...  ...         ...\n",
       "207                    Venezuela  VEN   98.900000\n",
       "208                      Vietnam  VNM   87.806961\n",
       "209                        Yemen  YEM   49.180351\n",
       "210                       Zambia  ZMB   16.700000\n",
       "211                     Zimbabwe  ZWE   33.850704\n",
       "\n",
       "[212 rows x 3 columns]"
      ]
     },
     "execution_count": 58,
     "metadata": {},
     "output_type": "execute_result"
    }
   ],
   "source": [
    "year = 'Y2000'\n",
    "test_data3 = access_electricity_df.loc[:,['Country ','Code',year]]\n",
    "test_data3"
   ]
  }
 ],
 "metadata": {
  "kernelspec": {
   "display_name": "Python 3",
   "language": "python",
   "name": "python3"
  },
  "language_info": {
   "codemirror_mode": {
    "name": "ipython",
    "version": 3
   },
   "file_extension": ".py",
   "mimetype": "text/x-python",
   "name": "python",
   "nbconvert_exporter": "python",
   "pygments_lexer": "ipython3",
   "version": "3.7.4"
  }
 },
 "nbformat": 4,
 "nbformat_minor": 2
}
